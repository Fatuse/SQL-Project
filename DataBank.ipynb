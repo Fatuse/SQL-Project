{
 "cells": [
  {
   "cell_type": "code",
   "execution_count": 1,
   "metadata": {},
   "outputs": [],
   "source": [
    "import pandas as pd\n",
    "import sqlite3\n",
    "import seaborn as sns"
   ]
  },
  {
   "cell_type": "code",
   "execution_count": 2,
   "metadata": {},
   "outputs": [],
   "source": [
    "df_reg = pd.read_csv ('Region.csv')\n",
    "df_nodes = pd.read_csv ('Customernodes.csv')\n",
    "df_trans = pd.read_csv ('Customertransactions.csv')"
   ]
  },
  {
   "cell_type": "code",
   "execution_count": 3,
   "metadata": {},
   "outputs": [],
   "source": [
    "### \"\"\"DROP TABLE Unnamed: 2;\"\"\"\n",
    "conn = sqlite3.connect('DannysDiner')\n",
    "c = conn.cursor()"
   ]
  },
  {
   "cell_type": "code",
   "execution_count": 4,
   "metadata": {},
   "outputs": [
    {
     "data": {
      "text/plain": [
       "Index(['  (region_id', ' region_name)', 'Unnamed: 2'], dtype='object')"
      ]
     },
     "execution_count": 4,
     "metadata": {},
     "output_type": "execute_result"
    }
   ],
   "source": [
    "df_reg.columns"
   ]
  },
  {
   "cell_type": "code",
   "execution_count": 5,
   "metadata": {},
   "outputs": [
    {
     "data": {
      "text/plain": [
       "Index(['  ('customer_id'', ' 'region_id'', ' 'node_id'', ' 'start_date'',\n",
       "       ' 'end_date')', 'Unnamed: 5'],\n",
       "      dtype='object')"
      ]
     },
     "execution_count": 5,
     "metadata": {},
     "output_type": "execute_result"
    }
   ],
   "source": [
    "df_nodes.columns"
   ]
  },
  {
   "cell_type": "code",
   "execution_count": 6,
   "metadata": {},
   "outputs": [
    {
     "data": {
      "text/plain": [
       "Index(['  ('customer_id'', ' 'txn_date'', ' 'txn_type'', ' 'txn_amount')',\n",
       "       'Unnamed: 4'],\n",
       "      dtype='object')"
      ]
     },
     "execution_count": 6,
     "metadata": {},
     "output_type": "execute_result"
    }
   ],
   "source": [
    "df_trans.columns"
   ]
  },
  {
   "cell_type": "code",
   "execution_count": 9,
   "metadata": {},
   "outputs": [
    {
     "name": "stderr",
     "output_type": "stream",
     "text": [
      "/Users/olasunkanmifatungase/opt/anaconda3/lib/python3.8/site-packages/pandas/core/generic.py:2872: UserWarning: The spaces in these column names will not be changed. In pandas versions < 0.14, spaces were converted to underscores.\n",
      "  sql.to_sql(\n"
     ]
    }
   ],
   "source": [
    "df_reg.to_sql('df_reg', conn,if_exists='replace',index=False)\n",
    "df_reg.to_sql('df_nodes', conn,if_exists='replace',index=False)\n",
    "df_reg.to_sql('df_trans', conn,if_exists='replace',index=False)"
   ]
  },
  {
   "cell_type": "code",
   "execution_count": 10,
   "metadata": {},
   "outputs": [
    {
     "data": {
      "text/html": [
       "<div>\n",
       "<style scoped>\n",
       "    .dataframe tbody tr th:only-of-type {\n",
       "        vertical-align: middle;\n",
       "    }\n",
       "\n",
       "    .dataframe tbody tr th {\n",
       "        vertical-align: top;\n",
       "    }\n",
       "\n",
       "    .dataframe thead th {\n",
       "        text-align: right;\n",
       "    }\n",
       "</style>\n",
       "<table border=\"1\" class=\"dataframe\">\n",
       "  <thead>\n",
       "    <tr style=\"text-align: right;\">\n",
       "      <th></th>\n",
       "      <th>(region_id</th>\n",
       "      <th>region_name)</th>\n",
       "      <th>Unnamed: 2</th>\n",
       "    </tr>\n",
       "  </thead>\n",
       "  <tbody>\n",
       "    <tr>\n",
       "      <th>0</th>\n",
       "      <td>('1'</td>\n",
       "      <td>'Australia')</td>\n",
       "      <td>NaN</td>\n",
       "    </tr>\n",
       "    <tr>\n",
       "      <th>1</th>\n",
       "      <td>('2'</td>\n",
       "      <td>'America')</td>\n",
       "      <td>NaN</td>\n",
       "    </tr>\n",
       "    <tr>\n",
       "      <th>2</th>\n",
       "      <td>('3'</td>\n",
       "      <td>'Africa')</td>\n",
       "      <td>NaN</td>\n",
       "    </tr>\n",
       "    <tr>\n",
       "      <th>3</th>\n",
       "      <td>('4'</td>\n",
       "      <td>'Asia')</td>\n",
       "      <td>NaN</td>\n",
       "    </tr>\n",
       "    <tr>\n",
       "      <th>4</th>\n",
       "      <td>('5'</td>\n",
       "      <td>'Europe');</td>\n",
       "      <td>NaN</td>\n",
       "    </tr>\n",
       "  </tbody>\n",
       "</table>\n",
       "</div>"
      ],
      "text/plain": [
       "    (region_id   region_name)  Unnamed: 2\n",
       "0         ('1'   'Australia')         NaN\n",
       "1         ('2'     'America')         NaN\n",
       "2         ('3'      'Africa')         NaN\n",
       "3         ('4'        'Asia')         NaN\n",
       "4         ('5'     'Europe');         NaN"
      ]
     },
     "execution_count": 10,
     "metadata": {},
     "output_type": "execute_result"
    }
   ],
   "source": [
    "df_reg.head()"
   ]
  },
  {
   "cell_type": "code",
   "execution_count": null,
   "metadata": {},
   "outputs": [
    {
     "data": {
      "text/plain": [
       "'region_id INTEGER,\\n  region_name VARCHAR(9)'"
      ]
     },
     "execution_count": 41,
     "metadata": {},
     "output_type": "execute_result"
    }
   ],
   "source": [
    "\"\"\"region_id INTEGER,\n",
    "  region_name VARCHAR(9)\"\"\""
   ]
  },
  {
   "cell_type": "code",
   "execution_count": null,
   "metadata": {},
   "outputs": [
    {
     "data": {
      "text/plain": [
       "'customer_id INTEGER,\\n  region_id INTEGER,\\n  node_id INTEGER,\\n  start_date DATE,\\n  end_date DATE\\n);'"
      ]
     },
     "execution_count": 42,
     "metadata": {},
     "output_type": "execute_result"
    }
   ],
   "source": [
    "\"\"\"customer_id INTEGER,\n",
    "  region_id INTEGER,\n",
    "  node_id INTEGER,\n",
    "  start_date DATE,\n",
    "  end_date DATE\n",
    ");\"\"\""
   ]
  },
  {
   "cell_type": "code",
   "execution_count": null,
   "metadata": {},
   "outputs": [
    {
     "data": {
      "text/plain": [
       "'customer_id INTEGER,\\n  txn_date DATE,\\n  txn_type VARCHAR(10),\\n  txn_amount INTEGER'"
      ]
     },
     "execution_count": 43,
     "metadata": {},
     "output_type": "execute_result"
    }
   ],
   "source": [
    "\"\"\"customer_id INTEGER,\n",
    "  txn_date DATE,\n",
    "  txn_type VARCHAR(10),\n",
    "  txn_amount INTEGER\"\"\""
   ]
  },
  {
   "cell_type": "code",
   "execution_count": null,
   "metadata": {},
   "outputs": [],
   "source": [
    "# What is the total amount each customer spent at the restaurant?\n",
    "\n",
    "qry = \"\"\"SELECT\n",
    "  \tproduct_id,\n",
    "    product_name,\n",
    "    price\n",
    "FROM \n",
    "ORDER BY price DESC\n",
    "LIMIT 5;\"\"\"\n",
    "\n",
    "pd.read_sql_query(qry, conn)"
   ]
  }
 ],
 "metadata": {
  "interpreter": {
   "hash": "6c75f19c06e8c52e1cba65f3b2c222a10030fc1532c512346d5dba19c60687ff"
  },
  "kernelspec": {
   "display_name": "Python 3.8.8",
   "language": "python",
   "name": "python3"
  },
  "language_info": {
   "codemirror_mode": {
    "name": "ipython",
    "version": 3
   },
   "file_extension": ".py",
   "mimetype": "text/x-python",
   "name": "python",
   "nbconvert_exporter": "python",
   "pygments_lexer": "ipython3",
   "version": "3.8.8"
  },
  "orig_nbformat": 4
 },
 "nbformat": 4,
 "nbformat_minor": 2
}
